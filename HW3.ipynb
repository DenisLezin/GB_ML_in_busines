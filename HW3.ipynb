{
 "cells": [
  {
   "cell_type": "markdown",
   "id": "53741a77",
   "metadata": {},
   "source": [
    "### Кейс 2 - определение ССЗ"
   ]
  },
  {
   "cell_type": "markdown",
   "id": "aa466674",
   "metadata": {},
   "source": [
    "1. обучить несколько разных моделей на наборе данных ССЗ (train_case2.csv): логрег, бустинг, лес и т.д - на ваш выбор 2-3 варианта\n",
    "2. при обучении моделей обязательно использовать кроссвалидацию\n",
    "3. вывести сравнение полученных моделей по основным метрикам классификации: pr/rec/auc/f_score (можно в виде таблицы, где строки - модели, а столбцы - метрики)\n",
    "4. сделать выводы о том, какая модель справилась с задачей лучше других\n",
    "5. (опциональный вопрос) какая метрика (precision_recall_curve или roc_auc_curve) больше подходит в случае сильного дисбаланса классов? (когда объектов одного из классов намного больше чем другого). \n",
    "\n",
    "p.s.В вопросе проще разобраться, если вспомнить оси на графике roc auc curve и рассмотреть такой пример:\n",
    "\n",
    "Имеется 100000 объектов, из которых только 100 - класс \"1\" (99900 - класс \"0\", соответственно). \n",
    "Допустим, у нас две модели:\n",
    "\n",
    "- первая помечает 100 объектов как класс 1, но TP = 90\n",
    "- вторая помечает 1000 объектов как класс 1, но TP такой же - 90\n",
    "\n",
    "Какая модель лучше и почему? И что позволяет легче сделать вывод - roc_auc_curve или precision_recall_curve?"
   ]
  },
  {
   "cell_type": "markdown",
   "id": "613a9c17",
   "metadata": {},
   "source": [
    "ссылка на соревнование - https://mlbootcamp.ru/ru/round/12/sandbox/"
   ]
  },
  {
   "cell_type": "markdown",
   "id": "8ddde814",
   "metadata": {},
   "source": [
    "В рамках конкурса вам нужно предсказать наличие сердечно-сосудистых заболеваний по результатам классического врачебного осмотра. Датасет сформирован из 100.000 реальных клинических анализов, и в нём используются признаки, которые можно разбить на 3 группы:\n",
    "\n",
    " \n",
    "\n",
    "Объективные признаки:\n",
    "\n",
    " - Возраст\n",
    " - Рост\n",
    " - Вес\n",
    " - Пол\n",
    " \n",
    "\n",
    "Результаты измерения:\n",
    "\n",
    " - Артериальное давление верхнее и нижнее\n",
    " - Холестерин\n",
    " - Глюкоза\n",
    " \n",
    "\n",
    "Субъективные признаки:\n",
    "\n",
    " - Курение\n",
    " - Употребление Алкоголя\n",
    " - Физическая активность\n",
    " \n",
    "\n",
    "Возраст дан в днях. Значения показателей холестерина и глюкозы представлены одним из трех классов: норма, выше нормы, значительно выше нормы. Значения субъективных признаков — бинарны.\n",
    "\n",
    "Все показатели даны на момент осмотра."
   ]
  },
  {
   "cell_type": "markdown",
   "id": "c8b8cd7e",
   "metadata": {},
   "source": [
    "Таргет - наличие сердечно-сосудистых заболеваний (ССЗ)"
   ]
  },
  {
   "cell_type": "code",
   "execution_count": 1,
   "id": "7fc11b07",
   "metadata": {},
   "outputs": [],
   "source": [
    "import pandas as pd\n",
    "import numpy as np\n",
    "# import itertools\n",
    "# from tqdm.notebook import tqdm\n",
    "\n",
    "from sklearn.metrics import precision_recall_curve, roc_curve, roc_auc_score, confusion_matrix\n",
    "from sklearn.metrics import roc_auc_score, log_loss\n",
    "\n",
    "from sklearn.model_selection import cross_val_score, train_test_split\n",
    "from sklearn.preprocessing import StandardScaler\n",
    "\n",
    "from sklearn.linear_model import LogisticRegression\n",
    "from sklearn.ensemble import GradientBoostingClassifier, RandomForestClassifier\n",
    "\n",
    "from sklearn.pipeline import Pipeline, make_pipeline\n",
    "from sklearn.pipeline import FeatureUnion\n",
    "from sklearn.base import BaseEstimator, TransformerMixin\n",
    "\n",
    "import matplotlib.pyplot as plt\n",
    "import seaborn as sns"
   ]
  },
  {
   "cell_type": "code",
   "execution_count": 2,
   "id": "33c3054c",
   "metadata": {},
   "outputs": [],
   "source": [
    "%matplotlib inline"
   ]
  },
  {
   "cell_type": "code",
   "execution_count": 3,
   "id": "1b1df8f3",
   "metadata": {},
   "outputs": [],
   "source": [
    "class ColumnSelector(BaseEstimator, TransformerMixin):\n",
    "    \"\"\"\n",
    "    Transformer to select a single column from the data frame to perform additional transformations on\n",
    "    \"\"\"\n",
    "    def __init__(self, key):\n",
    "        self.key = key\n",
    "\n",
    "    def fit(self, X, y=None):\n",
    "        return self\n",
    "\n",
    "    def transform(self, X):\n",
    "        return X[self.key]\n",
    "    \n",
    "class NumberSelector(BaseEstimator, TransformerMixin):\n",
    "    \"\"\"\n",
    "    Transformer to select a single column from the data frame to perform additional transformations on\n",
    "    Use on numeric columns in the data\n",
    "    \"\"\"\n",
    "    def __init__(self, key):\n",
    "        self.key = key\n",
    "\n",
    "    def fit(self, X, y=None):\n",
    "        return self\n",
    "\n",
    "    def transform(self, X):\n",
    "        return X[[self.key]]\n",
    "    \n",
    "class OHEEncoder(BaseEstimator, TransformerMixin):\n",
    "    def __init__(self, key):\n",
    "        self.key = key\n",
    "        self.columns = []\n",
    "\n",
    "    def fit(self, X, y=None):\n",
    "        self.columns = [col for col in pd.get_dummies(X, prefix=self.key).columns]\n",
    "        return self\n",
    "\n",
    "    def transform(self, X):\n",
    "        X = pd.get_dummies(X, prefix=self.key)\n",
    "        test_columns = [col for col in X.columns]\n",
    "        for col_ in self.columns:\n",
    "            if col_ not in test_columns:\n",
    "                X[col_] = 0\n",
    "        return X[self.columns]\n"
   ]
  },
  {
   "cell_type": "code",
   "execution_count": 4,
   "id": "135c90f4",
   "metadata": {},
   "outputs": [],
   "source": [
    "DATA_FILE = 'train_case2.csv'\n",
    "\n",
    "NUM_COLS = ['age', 'height', 'weight', 'ap_hi', 'ap_lo']\n",
    "CAT_COLS = ['gender', 'cholesterol']\n",
    "BASE_COLS = ['gluc', 'smoke', 'alco', 'active']\n"
   ]
  },
  {
   "cell_type": "code",
   "execution_count": 5,
   "id": "1fbc217c",
   "metadata": {},
   "outputs": [
    {
     "data": {
      "text/html": [
       "<div>\n",
       "<style scoped>\n",
       "    .dataframe tbody tr th:only-of-type {\n",
       "        vertical-align: middle;\n",
       "    }\n",
       "\n",
       "    .dataframe tbody tr th {\n",
       "        vertical-align: top;\n",
       "    }\n",
       "\n",
       "    .dataframe thead th {\n",
       "        text-align: right;\n",
       "    }\n",
       "</style>\n",
       "<table border=\"1\" class=\"dataframe\">\n",
       "  <thead>\n",
       "    <tr style=\"text-align: right;\">\n",
       "      <th></th>\n",
       "      <th>id</th>\n",
       "      <th>age</th>\n",
       "      <th>gender</th>\n",
       "      <th>height</th>\n",
       "      <th>weight</th>\n",
       "      <th>ap_hi</th>\n",
       "      <th>ap_lo</th>\n",
       "      <th>cholesterol</th>\n",
       "      <th>gluc</th>\n",
       "      <th>smoke</th>\n",
       "      <th>alco</th>\n",
       "      <th>active</th>\n",
       "      <th>cardio</th>\n",
       "    </tr>\n",
       "  </thead>\n",
       "  <tbody>\n",
       "    <tr>\n",
       "      <th>0</th>\n",
       "      <td>0</td>\n",
       "      <td>18393</td>\n",
       "      <td>2</td>\n",
       "      <td>168</td>\n",
       "      <td>62.0</td>\n",
       "      <td>110</td>\n",
       "      <td>80</td>\n",
       "      <td>1</td>\n",
       "      <td>1</td>\n",
       "      <td>0</td>\n",
       "      <td>0</td>\n",
       "      <td>1</td>\n",
       "      <td>0</td>\n",
       "    </tr>\n",
       "    <tr>\n",
       "      <th>1</th>\n",
       "      <td>1</td>\n",
       "      <td>20228</td>\n",
       "      <td>1</td>\n",
       "      <td>156</td>\n",
       "      <td>85.0</td>\n",
       "      <td>140</td>\n",
       "      <td>90</td>\n",
       "      <td>3</td>\n",
       "      <td>1</td>\n",
       "      <td>0</td>\n",
       "      <td>0</td>\n",
       "      <td>1</td>\n",
       "      <td>1</td>\n",
       "    </tr>\n",
       "    <tr>\n",
       "      <th>2</th>\n",
       "      <td>2</td>\n",
       "      <td>18857</td>\n",
       "      <td>1</td>\n",
       "      <td>165</td>\n",
       "      <td>64.0</td>\n",
       "      <td>130</td>\n",
       "      <td>70</td>\n",
       "      <td>3</td>\n",
       "      <td>1</td>\n",
       "      <td>0</td>\n",
       "      <td>0</td>\n",
       "      <td>0</td>\n",
       "      <td>1</td>\n",
       "    </tr>\n",
       "  </tbody>\n",
       "</table>\n",
       "</div>"
      ],
      "text/plain": [
       "   id    age  gender  height  weight  ap_hi  ap_lo  cholesterol  gluc  smoke  \\\n",
       "0   0  18393       2     168    62.0    110     80            1     1      0   \n",
       "1   1  20228       1     156    85.0    140     90            3     1      0   \n",
       "2   2  18857       1     165    64.0    130     70            3     1      0   \n",
       "\n",
       "   alco  active  cardio  \n",
       "0     0       1       0  \n",
       "1     0       1       1  \n",
       "2     0       0       1  "
      ]
     },
     "execution_count": 5,
     "metadata": {},
     "output_type": "execute_result"
    }
   ],
   "source": [
    "df = pd.read_csv('train_case2.csv', ';')\n",
    "df.head(3)"
   ]
  },
  {
   "cell_type": "markdown",
   "id": "729f5a75",
   "metadata": {},
   "source": [
    "### Индекс Кетле\n",
    "$\\Large Ketle = \\frac{weight}{height^2}$  \n",
    "\n",
    "| Keltle | Category |\n",
    "|--------|----------|\n",
    "| 18.5   |thin      |\n",
    "| 25     |normal    |\n",
    "| 30     |thick     |\n",
    "| 35     |fat1      |\n",
    "| 40     |fat2      |\n",
    "| 40+    |fat3      |"
   ]
  },
  {
   "cell_type": "code",
   "execution_count": 6,
   "id": "df5e7a9f",
   "metadata": {},
   "outputs": [],
   "source": [
    "ketle_bins = [0, 18.5, 25, 30, 35 , 40, float('inf')]\n",
    "ketle_cat = ['thin', 'normal', 'thick', 'fat1', 'fat2', 'fat3']\n",
    "\n",
    "df['ketle'] = pd.cut(df['weight'] / (df['height'] / 100)**2, ketle_bins, right=False, labels=ketle_cat)\n",
    "CAT_COLS.append('ketle')"
   ]
  },
  {
   "cell_type": "code",
   "execution_count": 7,
   "id": "8a23c339",
   "metadata": {},
   "outputs": [],
   "source": [
    "num_transformers = []\n",
    "cat_transformers = []\n",
    "base_transformers = []\n",
    "\n",
    "for num_col in NUM_COLS:\n",
    "    transfomer =  Pipeline([\n",
    "                ('selector', NumberSelector(key=num_col)),\n",
    "                ('standard', StandardScaler())\n",
    "            ])\n",
    "    num_transformers.append((num_col, transfomer))\n",
    "    \n",
    "for cat_col in CAT_COLS:\n",
    "    cat_transformer = Pipeline([\n",
    "                ('selector', ColumnSelector(key=cat_col)),\n",
    "                ('ohe', OHEEncoder(key=cat_col))\n",
    "            ])\n",
    "    cat_transformers.append((cat_col, cat_transformer))\n",
    "    \n",
    "for base_col in BASE_COLS:\n",
    "    base_transformer = Pipeline([\n",
    "                ('selector', NumberSelector(key=base_col))\n",
    "            ])\n",
    "    base_transformers.append((base_col, base_transformer))\n",
    "    \n",
    "feats = FeatureUnion(num_transformers + cat_transformers + base_transformers)\n",
    "feature_processing = Pipeline([('feats', feats)])\n"
   ]
  },
  {
   "cell_type": "code",
   "execution_count": 8,
   "id": "58b8a3cb",
   "metadata": {
    "scrolled": false
   },
   "outputs": [],
   "source": [
    "X_train, X_test, y_train, y_test = train_test_split(df.drop(columns='cardio'), \n",
    "                                                    df['cardio'], test_size=0.33, random_state=42)"
   ]
  },
  {
   "cell_type": "markdown",
   "id": "b4888f3d",
   "metadata": {},
   "source": [
    "Теперь объединим все наши трансформеры с помощью FeatureUnion"
   ]
  },
  {
   "cell_type": "code",
   "execution_count": 9,
   "id": "03de3494",
   "metadata": {},
   "outputs": [
    {
     "data": {
      "text/plain": [
       "array([[ 1.01749796, -1.01586151, -0.986831  , ...,  0.        ,\n",
       "         0.        ,  1.        ],\n",
       "       [ 0.3334502 , -0.65065191, -0.986831  , ...,  0.        ,\n",
       "         0.        ,  0.        ],\n",
       "       [ 0.38653685,  0.68844994,  1.10127359, ...,  0.        ,\n",
       "         0.        ,  1.        ],\n",
       "       ...,\n",
       "       [ 1.67439454,  0.56671341, -0.01238219, ...,  0.        ,\n",
       "         0.        ,  1.        ],\n",
       "       [-0.49851073,  0.32324034, -0.29079614, ...,  0.        ,\n",
       "         0.        ,  0.        ],\n",
       "       [-1.76002771,  1.54060566, -0.70841706, ...,  0.        ,\n",
       "         0.        ,  1.        ]])"
      ]
     },
     "execution_count": 9,
     "metadata": {},
     "output_type": "execute_result"
    }
   ],
   "source": [
    "feats = FeatureUnion(num_transformers + cat_transformers + base_transformers)\n",
    "feature_processing = Pipeline([('feats', feats)])\n",
    "\n",
    "feature_processing.fit_transform(X_train)"
   ]
  },
  {
   "cell_type": "markdown",
   "id": "4a4a1917",
   "metadata": {},
   "source": [
    "Добавим классификаторы"
   ]
  },
  {
   "cell_type": "code",
   "execution_count": 10,
   "id": "f103c126",
   "metadata": {},
   "outputs": [],
   "source": [
    "log_reg_cls = Pipeline([\n",
    "    ('features', feats),\n",
    "    ('classifier', LogisticRegression(random_state = 42)),\n",
    "])\n",
    "\n",
    "grad_boost_cls = Pipeline([\n",
    "    ('features', feats),\n",
    "    ('classifier', GradientBoostingClassifier(random_state = 42)),\n",
    "])\n",
    "\n",
    "rnd_forest_cls = Pipeline([\n",
    "    ('features', feats),\n",
    "    ('classifier', RandomForestClassifier(random_state = 42)),\n",
    "])"
   ]
  },
  {
   "cell_type": "code",
   "execution_count": 11,
   "id": "a95d2bb8",
   "metadata": {},
   "outputs": [
    {
     "name": "stderr",
     "output_type": "stream",
     "text": [
      "C:\\ProgramData\\Anaconda3\\lib\\site-packages\\sklearn\\linear_model\\_logistic.py:763: ConvergenceWarning: lbfgs failed to converge (status=1):\n",
      "STOP: TOTAL NO. of ITERATIONS REACHED LIMIT.\n",
      "\n",
      "Increase the number of iterations (max_iter) or scale the data as shown in:\n",
      "    https://scikit-learn.org/stable/modules/preprocessing.html\n",
      "Please also refer to the documentation for alternative solver options:\n",
      "    https://scikit-learn.org/stable/modules/linear_model.html#logistic-regression\n",
      "  n_iter_i = _check_optimize_result(\n"
     ]
    },
    {
     "name": "stdout",
     "output_type": "stream",
     "text": [
      "log_reg, CV score is 0.7790985146440751+-0.010689552089496132\n",
      "grad_boost, CV score is 0.8004024235388529+-0.009310431725674771\n",
      "rnd_forest, CV score is 0.7696749067524734+-0.011391836439990236\n",
      "Wall time: 2min 19s\n"
     ]
    }
   ],
   "source": [
    "%%time\n",
    "classifiers = {'log_reg': log_reg_cls, \n",
    "               'grad_boost':grad_boost_cls, \n",
    "               'rnd_forest': rnd_forest_cls}\n",
    "\n",
    "#запустим кросс-валидацию\n",
    "for name, classifier in classifiers.items():\n",
    "    cv_scores = cross_val_score(classifier, X_train, y_train, cv=16, scoring='roc_auc')\n",
    "    cv_score = np.mean(cv_scores)\n",
    "    cv_score_std = np.std(cv_scores)\n",
    "    print('{}, CV score is {}+-{}'.format(name, cv_score, cv_score_std))"
   ]
  },
  {
   "cell_type": "code",
   "execution_count": 12,
   "id": "122e4b13",
   "metadata": {},
   "outputs": [
    {
     "name": "stdout",
     "output_type": "stream",
     "text": [
      "Wall time: 9.21 s\n"
     ]
    }
   ],
   "source": [
    "%%time\n",
    "#обучим пайплайн на всем тренировочном датасете\n",
    "for name, classifier in classifiers.items():\n",
    "    classifier.fit(X_train, y_train)"
   ]
  },
  {
   "cell_type": "code",
   "execution_count": 13,
   "id": "4363ced6",
   "metadata": {},
   "outputs": [],
   "source": [
    "y_scores = {}\n",
    "for name, classifier in classifiers.items():\n",
    "    y_scores[name] = classifier.predict_proba(X_test)[:, 1]\n",
    "# y_score = classifier.predict_proba(X_test)[:, 1]"
   ]
  },
  {
   "cell_type": "markdown",
   "id": "6a84d9b2",
   "metadata": {},
   "source": [
    "Посчитаем precision/recall/f_score"
   ]
  },
  {
   "cell_type": "code",
   "execution_count": 14,
   "id": "df15c397",
   "metadata": {},
   "outputs": [
    {
     "name": "stdout",
     "output_type": "stream",
     "text": [
      "For log_reg:\n",
      "Best Threshold=0.402838, F-Score=0.735, Precision=0.658, Recall=0.833\n",
      "roc auc score: 0.7859353578145292\n",
      "\n",
      "For grad_boost:\n",
      "Best Threshold=0.393515, F-Score=0.747, Precision=0.703, Recall=0.797\n",
      "roc auc score: 0.8057358438154729\n",
      "\n",
      "For rnd_forest:\n",
      "Best Threshold=0.360000, F-Score=0.722, Precision=0.648, Recall=0.815\n",
      "roc auc score: 0.7708045747092944\n",
      "\n"
     ]
    }
   ],
   "source": [
    "for name, y_score in y_scores.items():\n",
    "    b = 1\n",
    "    precision, recall, thresholds = precision_recall_curve(y_test.values, y_score)\n",
    "    fscore = (1 + b**2) * (precision * recall) / (b**2 * precision + recall)\n",
    "    # locate the index of the largest f score\n",
    "    ix = np.argmax(fscore)\n",
    "    print('For %s:\\nBest Threshold=%f, F-Score=%.3f, Precision=%.3f, Recall=%.3f' % (name,\n",
    "                                                                                     thresholds[ix], \n",
    "                                                                                     fscore[ix],\n",
    "                                                                                     precision[ix],\n",
    "                                                                                     recall[ix]))\n",
    "    print(\"roc auc score: {}\\n\".format(roc_auc_score(y_true=y_test, y_score=y_score)))"
   ]
  },
  {
   "cell_type": "markdown",
   "id": "4273a8e6",
   "metadata": {},
   "source": [
    "Лучшие результаты показал градиентный бустинг, добавленный идекс Кетле чуть-чуть ухудшил модель"
   ]
  },
  {
   "cell_type": "code",
   "execution_count": null,
   "id": "0734de37",
   "metadata": {},
   "outputs": [],
   "source": []
  }
 ],
 "metadata": {
  "kernelspec": {
   "display_name": "Python 3",
   "language": "python",
   "name": "python3"
  },
  "language_info": {
   "codemirror_mode": {
    "name": "ipython",
    "version": 3
   },
   "file_extension": ".py",
   "mimetype": "text/x-python",
   "name": "python",
   "nbconvert_exporter": "python",
   "pygments_lexer": "ipython3",
   "version": "3.8.5"
  }
 },
 "nbformat": 4,
 "nbformat_minor": 5
}
